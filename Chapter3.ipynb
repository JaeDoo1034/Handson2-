{
  "nbformat": 4,
  "nbformat_minor": 0,
  "metadata": {
    "kernelspec": {
      "display_name": "Python 3",
      "language": "python",
      "name": "python3"
    },
    "language_info": {
      "codemirror_mode": {
        "name": "ipython",
        "version": 3
      },
      "file_extension": ".py",
      "mimetype": "text/x-python",
      "name": "python",
      "nbconvert_exporter": "python",
      "pygments_lexer": "ipython3",
      "version": "3.7.4"
    },
    "colab": {
      "name": "Chapter3.ipynb",
      "provenance": []
    },
    "accelerator": "TPU"
  },
  "cells": [
    {
      "cell_type": "code",
      "metadata": {
        "id": "vFLMPVDUfnqK",
        "colab_type": "code",
        "colab": {
          "base_uri": "https://localhost:8080/",
          "height": 52
        },
        "outputId": "7caad97b-4927-417e-9050-79b8b5e1fd49"
      },
      "source": [
        "import os\n",
        "import re\n",
        "import numpy as np\n",
        "import pandas as pd\n",
        "import matplotlib.pyplot as plt\n",
        "%matplotlib inline\n",
        "\n",
        "import seaborn as sns\n",
        "plt.style.use('ggplot')\n",
        "\n",
        "\n",
        "#import matplotlib.font_manager as fm\n",
        "#path = 'C:\\Windows\\Fonts\\malgunbd.ttf'\n",
        "#font_name = fm.FontProperties(fname=path).get_name()\n",
        "#plt.rc('font', family=font_name)\n",
        "import matplotlib as mpl\n",
        "import matplotlib.font_manager as fm\n",
        "fontpath = '/usr/share/fonts/truetype/nanum/NanumBarunGothic.ttf'\n",
        "font = fm.FontProperties(fname=fontpath, size=9)\n",
        "plt.rc('font', family='NanumBarunGothic') \n",
        "mpl.font_manager._rebuild()\n",
        "\n",
        "\n",
        "import warnings\n",
        "warnings.filterwarnings(action='ignore')\n",
        "pd.options.display.float_format = '{:.2f}'.format"
      ],
      "execution_count": 1,
      "outputs": [
        {
          "output_type": "stream",
          "text": [
            "/usr/local/lib/python3.6/dist-packages/statsmodels/tools/_testing.py:19: FutureWarning: pandas.util.testing is deprecated. Use the functions in the public API at pandas.testing instead.\n",
            "  import pandas.util.testing as tm\n"
          ],
          "name": "stderr"
        }
      ]
    },
    {
      "cell_type": "code",
      "metadata": {
        "id": "NxDOagVufnqT",
        "colab_type": "code",
        "colab": {}
      },
      "source": [
        "from sklearn.datasets import fetch_openml"
      ],
      "execution_count": 2,
      "outputs": []
    },
    {
      "cell_type": "code",
      "metadata": {
        "id": "zksaFuURfnqZ",
        "colab_type": "code",
        "colab": {}
      },
      "source": [
        "mnist = fetch_openml('mnist_784',version = 1)"
      ],
      "execution_count": 3,
      "outputs": []
    },
    {
      "cell_type": "code",
      "metadata": {
        "id": "PlMMEiZ1fnqe",
        "colab_type": "code",
        "colab": {
          "base_uri": "https://localhost:8080/",
          "height": 34
        },
        "outputId": "c40dc08a-75f4-4132-a71e-1501addb5871"
      },
      "source": [
        "mnist.keys()"
      ],
      "execution_count": 4,
      "outputs": [
        {
          "output_type": "execute_result",
          "data": {
            "text/plain": [
              "dict_keys(['data', 'target', 'frame', 'feature_names', 'target_names', 'DESCR', 'details', 'categories', 'url'])"
            ]
          },
          "metadata": {
            "tags": []
          },
          "execution_count": 4
        }
      ]
    },
    {
      "cell_type": "code",
      "metadata": {
        "id": "e_g-HBIYfnqk",
        "colab_type": "code",
        "colab": {}
      },
      "source": [
        "X,y = mnist['data'], mnist['target']"
      ],
      "execution_count": 5,
      "outputs": []
    },
    {
      "cell_type": "code",
      "metadata": {
        "id": "Kq-FCWBRfnqp",
        "colab_type": "code",
        "colab": {
          "base_uri": "https://localhost:8080/",
          "height": 34
        },
        "outputId": "4e7d1374-b17d-4750-9a68-1f7f80af36eb"
      },
      "source": [
        "X.shape"
      ],
      "execution_count": 6,
      "outputs": [
        {
          "output_type": "execute_result",
          "data": {
            "text/plain": [
              "(70000, 784)"
            ]
          },
          "metadata": {
            "tags": []
          },
          "execution_count": 6
        }
      ]
    },
    {
      "cell_type": "code",
      "metadata": {
        "id": "Uz_BYpbNfnqv",
        "colab_type": "code",
        "colab": {
          "base_uri": "https://localhost:8080/",
          "height": 34
        },
        "outputId": "bbbe1f23-5090-4aee-9a2d-12cc4c79e36d"
      },
      "source": [
        "y.shape"
      ],
      "execution_count": 7,
      "outputs": [
        {
          "output_type": "execute_result",
          "data": {
            "text/plain": [
              "(70000,)"
            ]
          },
          "metadata": {
            "tags": []
          },
          "execution_count": 7
        }
      ]
    },
    {
      "cell_type": "markdown",
      "metadata": {
        "id": "VP4Ber4Ffnq2",
        "colab_type": "text"
      },
      "source": [
        "이미지 70,000개, 각 이미지에는 784개의 특성이 존재.. (28x 28픽셀이기 때문)\n",
        "개개의 특성은 단순히 0(흰색) 부터 255(검은색)까지의 픽셀 강도를 나타냅니다."
      ]
    },
    {
      "cell_type": "code",
      "metadata": {
        "id": "q-IP0N5gfnq4",
        "colab_type": "code",
        "colab": {}
      },
      "source": [
        "import matplotlib as mpl\n",
        "import matplotlib.pyplot as plt"
      ],
      "execution_count": 8,
      "outputs": []
    },
    {
      "cell_type": "code",
      "metadata": {
        "id": "1MfXHGDUfnq9",
        "colab_type": "code",
        "colab": {}
      },
      "source": [
        "some_digit = X[0]\n",
        "some_digit_image = some_digit.reshape(28,28)"
      ],
      "execution_count": 9,
      "outputs": []
    },
    {
      "cell_type": "markdown",
      "metadata": {
        "id": "rgTo4U8nfnrB",
        "colab_type": "text"
      },
      "source": [
        "샘플의특성 벡터를 추출해서 28 x 28배열로 크기를 바꾸고 imshow하자"
      ]
    },
    {
      "cell_type": "code",
      "metadata": {
        "id": "Is6JJ5y_fnrC",
        "colab_type": "code",
        "colab": {
          "base_uri": "https://localhost:8080/",
          "height": 248
        },
        "outputId": "5eb5903b-de02-452e-e7e5-c5b78f06c1df"
      },
      "source": [
        "plt.imshow(some_digit_image,cmap = 'binary')\n",
        "plt.axis('off')\n",
        "plt.show()"
      ],
      "execution_count": 10,
      "outputs": [
        {
          "output_type": "display_data",
          "data": {
            "image/png": "[encoded data removed]",
            "text/plain": [
              "<Figure size 432x288 with 1 Axes>"
            ]
          },
          "metadata": {
            "tags": [],
            "needs_background": "light"
          }
        }
      ]
    },
    {
      "cell_type": "code",
      "metadata": {
        "id": "4pRFgvdZfnrH",
        "colab_type": "code",
        "colab": {
          "base_uri": "https://localhost:8080/",
          "height": 35
        },
        "outputId": "1005b2b8-db83-4839-8b31-65e9d14056f3"
      },
      "source": [
        "y[0]"
      ],
      "execution_count": 11,
      "outputs": [
        {
          "output_type": "execute_result",
          "data": {
            "application/vnd.google.colaboratory.intrinsic+json": {
              "type": "string"
            },
            "text/plain": [
              "'5'"
            ]
          },
          "metadata": {
            "tags": []
          },
          "execution_count": 11
        }
      ]
    },
    {
      "cell_type": "code",
      "metadata": {
        "id": "hWsu5IwifnrP",
        "colab_type": "code",
        "colab": {}
      },
      "source": [
        "# 대부분 머신러닝 알고리즘은 숫자를 기대하므로 y를 정수로 변환\n",
        "y = y.astype(np.uint8)"
      ],
      "execution_count": 12,
      "outputs": []
    },
    {
      "cell_type": "code",
      "metadata": {
        "id": "nnW3s-sOfnrV",
        "colab_type": "code",
        "colab": {}
      },
      "source": [
        "# Mninst 데이터는 이미 훈련세트와 테스트 세트를 구분지어놈\n",
        "X_train, X_test, y_train, y_test = X[:60000], X[60000:],y[:60000],y[60000:]"
      ],
      "execution_count": 13,
      "outputs": []
    },
    {
      "cell_type": "markdown",
      "metadata": {
        "id": "iokc9yJhfnrb",
        "colab_type": "text"
      },
      "source": [
        "### 3.2 이진 분류기 훈련"
      ]
    },
    {
      "cell_type": "markdown",
      "metadata": {
        "id": "443a5Va7fnrc",
        "colab_type": "text"
      },
      "source": [
        "문제를 단순화해서 하나의 숫자,,,5를 식별하는지 마는지 감지기 생성"
      ]
    },
    {
      "cell_type": "code",
      "metadata": {
        "id": "5b6JTsR1fnre",
        "colab_type": "code",
        "colab": {}
      },
      "source": [
        "y_train_5 = (y_train == 5)\n",
        "y_test_5 = (y_test == 5)"
      ],
      "execution_count": 14,
      "outputs": []
    },
    {
      "cell_type": "markdown",
      "metadata": {
        "id": "7zhfgQFKfnri",
        "colab_type": "text"
      },
      "source": [
        "##### 확률적 경사하강법인 SGDClassifier사용.\n",
        "\n",
        "이 분류기는 매우 큰 데이터셋을 효율적으로 처리하는 장점 지님. \n",
        "이유는 SGD가 한 번에 하나씩 훈련 샘플을 독립적으로 처리하기 때문. 그래서 온라인 학습에 잘 맞음"
      ]
    },
    {
      "cell_type": "code",
      "metadata": {
        "id": "Y7qgEQWUfnri",
        "colab_type": "code",
        "colab": {}
      },
      "source": [
        "from sklearn.linear_model import SGDClassifier"
      ],
      "execution_count": 15,
      "outputs": []
    },
    {
      "cell_type": "code",
      "metadata": {
        "id": "43VR2HtNfnro",
        "colab_type": "code",
        "colab": {
          "base_uri": "https://localhost:8080/",
          "height": 122
        },
        "outputId": "700a5bcb-1440-4dc8-b7f1-670d24ae417a"
      },
      "source": [
        "# SGDClassifier은 훈련하는데 무작위성을 사용합니다. 재현성을 위해 Seed값 지정해주어야!\n",
        "sgd_clf = SGDClassifier(random_state = 42)\n",
        "sgd_clf.fit(X_train,y_train_5)"
      ],
      "execution_count": 16,
      "outputs": [
        {
          "output_type": "execute_result",
          "data": {
            "text/plain": [
              "SGDClassifier(alpha=0.0001, average=False, class_weight=None,\n",
              "              early_stopping=False, epsilon=0.1, eta0=0.0, fit_intercept=True,\n",
              "              l1_ratio=0.15, learning_rate='optimal', loss='hinge',\n",
              "              max_iter=1000, n_iter_no_change=5, n_jobs=None, penalty='l2',\n",
              "              power_t=0.5, random_state=42, shuffle=True, tol=0.001,\n",
              "              validation_fraction=0.1, verbose=0, warm_start=False)"
            ]
          },
          "metadata": {
            "tags": []
          },
          "execution_count": 16
        }
      ]
    },
    {
      "cell_type": "code",
      "metadata": {
        "id": "FE4gy8H-fnru",
        "colab_type": "code",
        "colab": {
          "base_uri": "https://localhost:8080/",
          "height": 34
        },
        "outputId": "7caf4c63-c8d5-4ced-da88-049a3a3e3f6b"
      },
      "source": [
        "# 숫자 5를 감지해보자!\n",
        "sgd_clf.predict([some_digit])"
      ],
      "execution_count": 17,
      "outputs": [
        {
          "output_type": "execute_result",
          "data": {
            "text/plain": [
              "array([ True])"
            ]
          },
          "metadata": {
            "tags": []
          },
          "execution_count": 17
        }
      ]
    },
    {
      "cell_type": "markdown",
      "metadata": {
        "id": "r125tlEQfnrz",
        "colab_type": "text"
      },
      "source": [
        "분류기는 이 이미지가 5를 나타낸다고 <b>추측</b>했습니다. 이 경우엔 특별하게 정확히 맞춘 것 같습니다."
      ]
    },
    {
      "cell_type": "markdown",
      "metadata": {
        "id": "3ICH3Gwofnr0",
        "colab_type": "text"
      },
      "source": [
        "### 3.3 성능 측정"
      ]
    },
    {
      "cell_type": "markdown",
      "metadata": {
        "id": "aNTmZ0Uxfnr1",
        "colab_type": "text"
      },
      "source": [
        "#####  3.3.1 교차 검증을 사용한 정확도 측정"
      ]
    },
    {
      "cell_type": "markdown",
      "metadata": {
        "id": "lRhqs1IZfnr2",
        "colab_type": "text"
      },
      "source": [
        "직접 구현"
      ]
    },
    {
      "cell_type": "code",
      "metadata": {
        "id": "91u4lGNifnr3",
        "colab_type": "code",
        "colab": {}
      },
      "source": [
        "from sklearn.model_selection import StratifiedKFold\n",
        "from sklearn.base import clone"
      ],
      "execution_count": 18,
      "outputs": []
    },
    {
      "cell_type": "code",
      "metadata": {
        "id": "1HC9v25Nfnr9",
        "colab_type": "code",
        "colab": {}
      },
      "source": [
        "skfolds = StratifiedKFold(n_splits = 3, random_state=42,shuffle=True)"
      ],
      "execution_count": 19,
      "outputs": []
    },
    {
      "cell_type": "code",
      "metadata": {
        "id": "ncsSOzaffnsA",
        "colab_type": "code",
        "colab": {
          "base_uri": "https://localhost:8080/",
          "height": 70
        },
        "outputId": "5f46c839-d8ea-4755-8baa-eb6a037a2fd8"
      },
      "source": [
        "for train_index ,test_index in skfolds.split(X_train,y_train_5):\n",
        "    clone_clf = clone(sgd_clf)\n",
        "    X_train_folds = X_train[train_index]\n",
        "    y_train_folds = y_train_5[train_index]\n",
        "    \n",
        "    X_test_fold = X_train[test_index]\n",
        "    y_test_fold = y_train_5[test_index]\n",
        "    \n",
        "    clone_clf.fit(X_train_folds,y_train_folds)\n",
        "    y_pred = clone_clf.predict(X_test_fold)\n",
        "    n_correct = sum(y_pred == y_test_fold)\n",
        "    print(n_correct / len(y_pred))"
      ],
      "execution_count": 20,
      "outputs": [
        {
          "output_type": "stream",
          "text": [
            "0.9669\n",
            "0.91625\n",
            "0.96785\n"
          ],
          "name": "stdout"
        }
      ]
    },
    {
      "cell_type": "markdown",
      "metadata": {
        "id": "2s8RmWFbfnsI",
        "colab_type": "text"
      },
      "source": [
        "StratifiedKFold : 클래스별 비율이 유지되도록 폴드를 만들기 위해 계층적 샘플링을 수행.<br>\n",
        "매 반복에서 분류기 객체를 복제, 훈련 폴드로 훈련시키고 테스트 폴드로 예측,,<br>\n",
        "그 다음 올바른 예측의 수를 세어 정확한 예측의 비율ㅇ르 출력"
      ]
    },
    {
      "cell_type": "markdown",
      "metadata": {
        "id": "QNj4gsvufnsJ",
        "colab_type": "text"
      },
      "source": [
        "cross_val_score이용"
      ]
    },
    {
      "cell_type": "code",
      "metadata": {
        "id": "zVMb3kaJfnsK",
        "colab_type": "code",
        "colab": {
          "base_uri": "https://localhost:8080/",
          "height": 34
        },
        "outputId": "fe698ed3-487a-4b8d-bde5-31dc11aa9443"
      },
      "source": [
        "from sklearn.model_selection import cross_val_score,cross_val_predict\n",
        "cross_val_score(sgd_clf,X_train,y_train_5,cv = 3, scoring ='accuracy')"
      ],
      "execution_count": 21,
      "outputs": [
        {
          "output_type": "execute_result",
          "data": {
            "text/plain": [
              "array([0.95035, 0.96035, 0.9604 ])"
            ]
          },
          "metadata": {
            "tags": []
          },
          "execution_count": 21
        }
      ]
    },
    {
      "cell_type": "markdown",
      "metadata": {
        "id": "l_cohVAPfnsO",
        "colab_type": "text"
      },
      "source": [
        "모든 교차 검증 폴드에 대해 정확도가 95%이상.... <br>\n",
        "모든 이미지를 '5아님' 클래스로 분류하는 더미 분류기를 만들어 비교해보겠다"
      ]
    },
    {
      "cell_type": "code",
      "metadata": {
        "id": "GTPhCFwQfnsQ",
        "colab_type": "code",
        "colab": {}
      },
      "source": [
        "from sklearn.base import BaseEstimator"
      ],
      "execution_count": 22,
      "outputs": []
    },
    {
      "cell_type": "code",
      "metadata": {
        "id": "yCARk2DFfnsX",
        "colab_type": "code",
        "colab": {}
      },
      "source": [
        "class Never5Classifier(BaseEstimator):\n",
        "    def fit(self,X,y=None):\n",
        "        return self\n",
        "    def predict(self,X):\n",
        "        return np.zeros((len(X),1),dtype =bool)"
      ],
      "execution_count": 23,
      "outputs": []
    },
    {
      "cell_type": "markdown",
      "metadata": {
        "id": "SbKHDuzufnse",
        "colab_type": "text"
      },
      "source": [
        "##### 의미\n",
        "\n",
        "이 예제는 정확도를 분류기의 성능 측정 지표로 선호하지 않는 이유를 보여줍니다. \n",
        "<br>\n",
        "특히 <b> 불균형한 데이터 셋</b>를 다룰 때 더욱 그렇습니다"
      ]
    },
    {
      "cell_type": "markdown",
      "metadata": {
        "id": "iEWdTPqnfnsg",
        "colab_type": "text"
      },
      "source": [
        "### 3.3.2 오차 행렬"
      ]
    },
    {
      "cell_type": "code",
      "metadata": {
        "id": "FWDG7WcYfnsh",
        "colab_type": "code",
        "colab": {}
      },
      "source": [
        "from sklearn.model_selection import cross_val_predict"
      ],
      "execution_count": 24,
      "outputs": []
    },
    {
      "cell_type": "code",
      "metadata": {
        "id": "Ek8hr9YUfnsn",
        "colab_type": "code",
        "colab": {}
      },
      "source": [
        "y_train_pred = cross_val_predict(sgd_clf,X_train,y_train_5,cv = 3)"
      ],
      "execution_count": 25,
      "outputs": []
    },
    {
      "cell_type": "code",
      "metadata": {
        "id": "9H8_3Cggfnss",
        "colab_type": "code",
        "colab": {}
      },
      "source": [
        "from sklearn.metrics import confusion_matrix"
      ],
      "execution_count": 26,
      "outputs": []
    },
    {
      "cell_type": "code",
      "metadata": {
        "id": "6WBR95Zbfnsw",
        "colab_type": "code",
        "colab": {
          "base_uri": "https://localhost:8080/",
          "height": 52
        },
        "outputId": "06f104e1-09c6-45c5-a013-392b50bd881b"
      },
      "source": [
        "confusion_matrix(y_train_5,y_train_pred) # 입력 순서는 실제 , 예측"
      ],
      "execution_count": 27,
      "outputs": [
        {
          "output_type": "execute_result",
          "data": {
            "text/plain": [
              "array([[53892,   687],\n",
              "       [ 1891,  3530]])"
            ]
          },
          "metadata": {
            "tags": []
          },
          "execution_count": 27
        }
      ]
    },
    {
      "cell_type": "markdown",
      "metadata": {
        "id": "Bu3ywfr9fnsz",
        "colab_type": "text"
      },
      "source": [
        "오차 행렬의 행 : 실제 클래스, 열은 예측한 클래스<br>\n",
        "1행 : \"5 아님\"을 의미( 음성 클래스).. \n",
        "2행 : \"5 맞음\"을 의미( 양성 클래스).."
      ]
    },
    {
      "cell_type": "code",
      "metadata": {
        "id": "NBxXjmMtfns0",
        "colab_type": "code",
        "colab": {
          "base_uri": "https://localhost:8080/",
          "height": 52
        },
        "outputId": "aface68d-8e76-41eb-d7be-fa350d2393c0"
      },
      "source": [
        "y_train_perfect_predictions = y_train_5\n",
        "confusion_matrix(y_train_5,y_train_perfect_predictions)"
      ],
      "execution_count": 28,
      "outputs": [
        {
          "output_type": "execute_result",
          "data": {
            "text/plain": [
              "array([[54579,     0],\n",
              "       [    0,  5421]])"
            ]
          },
          "metadata": {
            "tags": []
          },
          "execution_count": 28
        }
      ]
    },
    {
      "cell_type": "markdown",
      "metadata": {
        "id": "eGltCbSSfns9",
        "colab_type": "text"
      },
      "source": [
        "### 3.3.3 정밀도와 재현율"
      ]
    },
    {
      "cell_type": "code",
      "metadata": {
        "id": "l927QJ6efns-",
        "colab_type": "code",
        "colab": {}
      },
      "source": [
        "from sklearn.metrics import precision_score,recall_score"
      ],
      "execution_count": 29,
      "outputs": []
    },
    {
      "cell_type": "code",
      "metadata": {
        "id": "2P3FpM7EfntC",
        "colab_type": "code",
        "colab": {
          "base_uri": "https://localhost:8080/",
          "height": 34
        },
        "outputId": "174f8e0f-50d0-45d5-9119-2f164b95b89d"
      },
      "source": [
        "precision_score(y_train_5,y_train_pred) # 정밀도(예측의 정확도)"
      ],
      "execution_count": 30,
      "outputs": [
        {
          "output_type": "execute_result",
          "data": {
            "text/plain": [
              "0.8370879772350012"
            ]
          },
          "metadata": {
            "tags": []
          },
          "execution_count": 30
        }
      ]
    },
    {
      "cell_type": "code",
      "metadata": {
        "id": "B476f27nfntF",
        "colab_type": "code",
        "colab": {
          "base_uri": "https://localhost:8080/",
          "height": 34
        },
        "outputId": "15cec3c8-bde6-46cb-ad82-41d9905c264e"
      },
      "source": [
        "recall_score(y_train_5,y_train_pred) # 재현율"
      ],
      "execution_count": 31,
      "outputs": [
        {
          "output_type": "execute_result",
          "data": {
            "text/plain": [
              "0.6511713705958311"
            ]
          },
          "metadata": {
            "tags": []
          },
          "execution_count": 31
        }
      ]
    },
    {
      "cell_type": "code",
      "metadata": {
        "id": "3IRd9rglfntJ",
        "colab_type": "code",
        "colab": {}
      },
      "source": [
        "# F1 score : 정밀도와 재현율을 조화평균 낸 식\n",
        "from sklearn.metrics import f1_score"
      ],
      "execution_count": 32,
      "outputs": []
    },
    {
      "cell_type": "code",
      "metadata": {
        "id": "jXOVqfoBfntN",
        "colab_type": "code",
        "colab": {
          "base_uri": "https://localhost:8080/",
          "height": 34
        },
        "outputId": "f46c42c2-646d-4ded-8295-c88d6e260d61"
      },
      "source": [
        "f1_score(y_train_5,y_train_pred)"
      ],
      "execution_count": 33,
      "outputs": [
        {
          "output_type": "execute_result",
          "data": {
            "text/plain": [
              "0.7325171197343846"
            ]
          },
          "metadata": {
            "tags": []
          },
          "execution_count": 33
        }
      ]
    },
    {
      "cell_type": "markdown",
      "metadata": {
        "id": "eYNYfELmfntQ",
        "colab_type": "text"
      },
      "source": [
        "### 3.3.4 정밀도/재현율 트레이드오프"
      ]
    },
    {
      "cell_type": "markdown",
      "metadata": {
        "id": "aQ_eBfwTfntR",
        "colab_type": "text"
      },
      "source": [
        "사이킷런에서 임계값을 직접 정할 수는 없지만 예측에 사용한 점수는 확인할 수 있습니다. 분류기의 predict() 메서드 대신 deciscion_function()메서드를 호출하면 각 샘플의 점수를 얻을 수 있습니다. dl 점수를 기반으로 원하는 임곗값을 정해 예측을 만들 수 있습니다."
      ]
    },
    {
      "cell_type": "code",
      "metadata": {
        "id": "i1d626YKfntS",
        "colab_type": "code",
        "colab": {}
      },
      "source": [
        "y_scores = sgd_clf.decision_function([some_digit])"
      ],
      "execution_count": 34,
      "outputs": []
    },
    {
      "cell_type": "code",
      "metadata": {
        "id": "Zoi0aovAfntV",
        "colab_type": "code",
        "colab": {
          "base_uri": "https://localhost:8080/",
          "height": 34
        },
        "outputId": "030067c1-d7cf-43f3-c4bb-4acabde8b4a8"
      },
      "source": [
        "y_scores"
      ],
      "execution_count": 35,
      "outputs": [
        {
          "output_type": "execute_result",
          "data": {
            "text/plain": [
              "array([2164.22030239])"
            ]
          },
          "metadata": {
            "tags": []
          },
          "execution_count": 35
        }
      ]
    },
    {
      "cell_type": "code",
      "metadata": {
        "id": "cBmUr2Psfnta",
        "colab_type": "code",
        "colab": {}
      },
      "source": [
        "threshold = 0\n",
        "y_some_digit_pred = (y_scores> threshold)"
      ],
      "execution_count": 36,
      "outputs": []
    },
    {
      "cell_type": "code",
      "metadata": {
        "id": "2E4W-lE9fntg",
        "colab_type": "code",
        "colab": {
          "base_uri": "https://localhost:8080/",
          "height": 34
        },
        "outputId": "115a6564-c235-40d7-8fde-91c29ba4d8ad"
      },
      "source": [
        "y_some_digit_pred"
      ],
      "execution_count": 37,
      "outputs": [
        {
          "output_type": "execute_result",
          "data": {
            "text/plain": [
              "array([ True])"
            ]
          },
          "metadata": {
            "tags": []
          },
          "execution_count": 37
        }
      ]
    },
    {
      "cell_type": "markdown",
      "metadata": {
        "id": "icJFYieHfntm",
        "colab_type": "text"
      },
      "source": [
        "사실 predict()메서드도 decision_function()함수를 사용하여 0보다 큰 경우를 양성으로 예측"
      ]
    },
    {
      "cell_type": "markdown",
      "metadata": {
        "id": "nwuOfUBYfntq",
        "colab_type": "text"
      },
      "source": [
        "임계값을 높이면 재현율이 줄어든다는 것을 보여줍니다. 이미지가 실제로 숫자 5이고, 임계값이 0일때는 분류기가 이를 감지했지만, 임계값을 8000으로 높이면 이를 놓치게 됩니다."
      ]
    },
    {
      "cell_type": "code",
      "metadata": {
        "id": "0LvHHlcXfntr",
        "colab_type": "code",
        "colab": {
          "base_uri": "https://localhost:8080/",
          "height": 34
        },
        "outputId": "7ed6cd5d-9c8d-4709-88ae-694a281d8284"
      },
      "source": [
        "threshold = 8000\n",
        "y_some_digit_pred = (y_scores>threshold)\n",
        "y_some_digit_pred"
      ],
      "execution_count": 38,
      "outputs": [
        {
          "output_type": "execute_result",
          "data": {
            "text/plain": [
              "array([False])"
            ]
          },
          "metadata": {
            "tags": []
          },
          "execution_count": 38
        }
      ]
    },
    {
      "cell_type": "markdown",
      "metadata": {
        "id": "G6lKQDrZfnt0",
        "colab_type": "text"
      },
      "source": [
        "##### 그렇다면 적절한 임계값을 어떻게 정할 수 있을까요?"
      ]
    },
    {
      "cell_type": "markdown",
      "metadata": {
        "id": "qq3hw-ujfnt0",
        "colab_type": "text"
      },
      "source": [
        "이를 위해서는 먼저 cross_val_predict()함수를 사용해 훈련 세트에 있는 모든 샘플의 점수를 구해야합니다. 하지만 이번에는 예측 결과가 아니라 결정 점수를 반환받도록 지정해야합니다!<br>\n",
        "method라는 파라미터에 decision_function입력"
      ]
    },
    {
      "cell_type": "code",
      "metadata": {
        "id": "_E8jh2WSfnt1",
        "colab_type": "code",
        "colab": {}
      },
      "source": [
        "y_scores = cross_val_predict(sgd_clf,X_train,y_train_5,cv = 3,method = 'decision_function')"
      ],
      "execution_count": 39,
      "outputs": []
    },
    {
      "cell_type": "markdown",
      "metadata": {
        "id": "u50ecXeQfnt9",
        "colab_type": "text"
      },
      "source": [
        "이 점수로 precision_recall_curve()함수를 사용하여 가능한 모든 임계값에 대해 정밀도와 재현율을 계산할 수 있습니다."
      ]
    },
    {
      "cell_type": "code",
      "metadata": {
        "id": "MBMuuubrfnt-",
        "colab_type": "code",
        "colab": {}
      },
      "source": [
        "from sklearn.metrics import precision_recall_curve"
      ],
      "execution_count": 40,
      "outputs": []
    },
    {
      "cell_type": "code",
      "metadata": {
        "id": "ZjA4O4OafnuB",
        "colab_type": "code",
        "colab": {}
      },
      "source": [
        "precisions, recalls, thresholds = precision_recall_curve(y_train_5,y_scores)"
      ],
      "execution_count": 41,
      "outputs": []
    },
    {
      "cell_type": "code",
      "metadata": {
        "id": "YY0yH8csfnuR",
        "colab_type": "code",
        "colab": {
          "base_uri": "https://localhost:8080/",
          "height": 52
        },
        "outputId": "891903c1-c0b9-491e-9886-c7e3d5010bae"
      },
      "source": [
        "thresholds"
      ],
      "execution_count": 42,
      "outputs": [
        {
          "output_type": "execute_result",
          "data": {
            "text/plain": [
              "array([-106527.45300471, -105763.22240074, -105406.2965229 , ...,\n",
              "         38871.26391927,   42216.05562787,   49441.43765905])"
            ]
          },
          "metadata": {
            "tags": []
          },
          "execution_count": 42
        }
      ]
    },
    {
      "cell_type": "code",
      "metadata": {
        "id": "sp2WxjbxfnuU",
        "colab_type": "code",
        "colab": {
          "base_uri": "https://localhost:8080/",
          "height": 52
        },
        "outputId": "0830d111-37ca-4b5f-843d-d9193d454cfe"
      },
      "source": [
        "precisions"
      ],
      "execution_count": 43,
      "outputs": [
        {
          "output_type": "execute_result",
          "data": {
            "text/plain": [
              "array([0.09040123, 0.09038606, 0.09038757, ..., 1.        , 1.        ,\n",
              "       1.        ])"
            ]
          },
          "metadata": {
            "tags": []
          },
          "execution_count": 43
        }
      ]
    },
    {
      "cell_type": "code",
      "metadata": {
        "id": "QyRZ1yZ9fnua",
        "colab_type": "code",
        "colab": {
          "base_uri": "https://localhost:8080/",
          "height": 52
        },
        "outputId": "cd9bf280-9eb1-4bd1-94f1-32714152644e"
      },
      "source": [
        "recalls"
      ],
      "execution_count": 44,
      "outputs": [
        {
          "output_type": "execute_result",
          "data": {
            "text/plain": [
              "array([1.00000000e+00, 9.99815532e-01, 9.99815532e-01, ...,\n",
              "       3.68935621e-04, 1.84467810e-04, 0.00000000e+00])"
            ]
          },
          "metadata": {
            "tags": []
          },
          "execution_count": 44
        }
      ]
    },
    {
      "cell_type": "markdown",
      "metadata": {
        "id": "crOcejDIfnuf",
        "colab_type": "text"
      },
      "source": [
        "이제 맷플롯립을 이용해 임계값의 함수로 정밀도와 재현율을 그릴 수 있습니다."
      ]
    },
    {
      "cell_type": "code",
      "metadata": {
        "id": "QnNSFTHDfnug",
        "colab_type": "code",
        "colab": {}
      },
      "source": [
        "def plot_precision_recall_vs_threshold(precisions,recalls,thresholds):\n",
        "    plt.plot(thresholds,precisions[:-1],label = '정밀도')\n",
        "    plt.plot(thresholds,recalls[:-1],label = '재현율')\n",
        "    plt.legend(loc = 'center right', fontsize= 16)\n",
        "    plt.xlabel('Threshold',fontsize = 16)\n",
        "    plt.grid(True)\n",
        "    plt.axis([-50000,50000,0,1])"
      ],
      "execution_count": 45,
      "outputs": []
    },
    {
      "cell_type": "code",
      "metadata": {
        "id": "_dE-hhGMfnun",
        "colab_type": "code",
        "colab": {}
      },
      "source": [
        "recall_90_precision = recalls[np.argmax(precisions >= 0.90)]\n",
        "threshold_90_precision = thresholds[np.argmax(precisions >= 0.9)]"
      ],
      "execution_count": 46,
      "outputs": []
    },
    {
      "cell_type": "code",
      "metadata": {
        "id": "Nt1xF3VCfnur",
        "colab_type": "code",
        "colab": {
          "base_uri": "https://localhost:8080/",
          "height": 323
        },
        "outputId": "2b185267-2009-40a8-c0b9-9786485777c2"
      },
      "source": [
        "plt.figure(figsize=(8, 4))                                                                  # Not shown\n",
        "plot_precision_recall_vs_threshold(precisions, recalls, thresholds)\n",
        "plt.plot([threshold_90_precision, threshold_90_precision], [0., 0.9], \"r:\")                 # Not shown\n",
        "plt.plot([-50000, threshold_90_precision], [0.9, 0.9], \"r:\")                                # Not shown\n",
        "plt.plot([-50000, threshold_90_precision], [recall_90_precision, recall_90_precision], \"r:\")# Not shown\n",
        "plt.plot([threshold_90_precision], [0.9], \"ro\")                                             # Not shown\n",
        "plt.plot([threshold_90_precision], [recall_90_precision], \"ro\")\n",
        "plt.show()"
      ],
      "execution_count": 47,
      "outputs": [
        {
          "output_type": "stream",
          "text": [
            "findfont: Font family ['NanumBarunGothic'] not found. Falling back to DejaVu Sans.\n",
            "findfont: Font family ['NanumBarunGothic'] not found. Falling back to DejaVu Sans.\n"
          ],
          "name": "stderr"
        },
        {
          "output_type": "display_data",
          "data": {
            "image/png": "[encoded data removed]",
            "text/plain": [
              "<Figure size 576x288 with 1 Axes>"
            ]
          },
          "metadata": {
            "tags": [],
            "needs_background": "light"
          }
        }
      ]
    },
    {
      "cell_type": "markdown",
      "metadata": {
        "id": "KO-grrFpfnux",
        "colab_type": "text"
      },
      "source": [
        "재현율과 정밀도의 그래프"
      ]
    },
    {
      "cell_type": "code",
      "metadata": {
        "id": "_s6DYAvVfnuy",
        "colab_type": "code",
        "colab": {
          "base_uri": "https://localhost:8080/",
          "height": 626
        },
        "outputId": "0da52b66-0025-4cb4-87ef-8df05caa4583"
      },
      "source": [
        "plt.figure(figsize = (10,10))\n",
        "plt.plot(recalls,precisions)\n",
        "plt.xlabel('재현율')\n",
        "plt.ylabel('정밀도')\n",
        "plt.show()"
      ],
      "execution_count": 48,
      "outputs": [
        {
          "output_type": "stream",
          "text": [
            "findfont: Font family ['NanumBarunGothic'] not found. Falling back to DejaVu Sans.\n"
          ],
          "name": "stderr"
        },
        {
          "output_type": "display_data",
          "data": {
            "image/png": "[encoded data removed]",
            "text/plain": [
              "<Figure size 720x720 with 1 Axes>"
            ]
          },
          "metadata": {
            "tags": [],
            "needs_background": "light"
          }
        }
      ]
    },
    {
      "cell_type": "markdown",
      "metadata": {
        "id": "oHFFKP64fnu9",
        "colab_type": "text"
      },
      "source": [
        "재현율이 90% 근처에서 정밀도가 급격하게 줄어들기 시작합니다."
      ]
    },
    {
      "cell_type": "markdown",
      "metadata": {
        "id": "otE8G-Z_fnu-",
        "colab_type": "text"
      },
      "source": [
        "이 하강점 직전을 정밀도/재현율 트레이드오프로 선택하는 것이 좋습니다. 예를 들면 재현율이 60%정도인 지점입니다. 물론 이런 선택은 프로젝트에 따라 달라집니다"
      ]
    },
    {
      "cell_type": "markdown",
      "metadata": {
        "id": "iNG48eNLfnu-",
        "colab_type": "text"
      },
      "source": [
        "정밀도 90% 달성하는 것을 목표라고 가정. 최소한 정밀도가 90% 되는 가장 낮은 임계값을 찾자"
      ]
    },
    {
      "cell_type": "markdown",
      "metadata": {
        "id": "3Cl-DhVAfnu_",
        "colab_type": "text"
      },
      "source": [
        "np.argmax()는 최대값의 첫 번째 인덱스를 반환합니다! 여기서는 첫번째 True"
      ]
    },
    {
      "cell_type": "code",
      "metadata": {
        "id": "SxMHk3qBfnu_",
        "colab_type": "code",
        "colab": {
          "base_uri": "https://localhost:8080/",
          "height": 34
        },
        "outputId": "3914f72a-83ec-42e8-8665-c8be21e77575"
      },
      "source": [
        "threshold_90_precision"
      ],
      "execution_count": 49,
      "outputs": [
        {
          "output_type": "execute_result",
          "data": {
            "text/plain": [
              "3370.0194991439557"
            ]
          },
          "metadata": {
            "tags": []
          },
          "execution_count": 49
        }
      ]
    },
    {
      "cell_type": "markdown",
      "metadata": {
        "id": "KIZgP91QfnvF",
        "colab_type": "text"
      },
      "source": [
        "(훈련 세트에 대한) 예측을 만들려면 분류기의 predict()메서드 대신 아래 코드 실행!"
      ]
    },
    {
      "cell_type": "code",
      "metadata": {
        "id": "EAd_RNTpfnvG",
        "colab_type": "code",
        "colab": {}
      },
      "source": [
        "y_train_pred_90 = (y_scores>= threshold_90_precision)"
      ],
      "execution_count": 50,
      "outputs": []
    },
    {
      "cell_type": "markdown",
      "metadata": {
        "id": "yIBl33N7fnvL",
        "colab_type": "text"
      },
      "source": [
        "이 예측에 대한 정밀도와 재현율을 확인!"
      ]
    },
    {
      "cell_type": "code",
      "metadata": {
        "id": "i5z1dcGOfnvM",
        "colab_type": "code",
        "colab": {
          "base_uri": "https://localhost:8080/",
          "height": 34
        },
        "outputId": "e6a616e6-5e84-4da4-b881-56398b7d4e1a"
      },
      "source": [
        "precision_score(y_train_5,y_train_pred_90)"
      ],
      "execution_count": 51,
      "outputs": [
        {
          "output_type": "execute_result",
          "data": {
            "text/plain": [
              "0.9000345901072293"
            ]
          },
          "metadata": {
            "tags": []
          },
          "execution_count": 51
        }
      ]
    },
    {
      "cell_type": "code",
      "metadata": {
        "id": "KB_xH9kyfnvU",
        "colab_type": "code",
        "colab": {
          "base_uri": "https://localhost:8080/",
          "height": 34
        },
        "outputId": "1c56f02d-21ac-473f-9aa3-987d10f50f8d"
      },
      "source": [
        "recall_score(y_train_5,y_train_pred_90)"
      ],
      "execution_count": 52,
      "outputs": [
        {
          "output_type": "execute_result",
          "data": {
            "text/plain": [
              "0.4799852425751706"
            ]
          },
          "metadata": {
            "tags": []
          },
          "execution_count": 52
        }
      ]
    },
    {
      "cell_type": "markdown",
      "metadata": {
        "id": "Kgo76Oarfnva",
        "colab_type": "text"
      },
      "source": [
        "### 3.3.5 ROC곡선"
      ]
    },
    {
      "cell_type": "code",
      "metadata": {
        "id": "Wr238COFfnva",
        "colab_type": "code",
        "colab": {}
      },
      "source": [
        "from sklearn.metrics import roc_curve"
      ],
      "execution_count": 53,
      "outputs": []
    },
    {
      "cell_type": "code",
      "metadata": {
        "id": "tJahFbwnfnvd",
        "colab_type": "code",
        "colab": {}
      },
      "source": [
        "fpr, tpr, thresholds = roc_curve(y_train_5,y_scores)"
      ],
      "execution_count": 54,
      "outputs": []
    },
    {
      "cell_type": "code",
      "metadata": {
        "id": "UJFz-8lnfnvi",
        "colab_type": "code",
        "colab": {}
      },
      "source": [
        "def plot_roc_curve(fpr,tpr,label = None):\n",
        "    plt.plot(fpr,tpr,linewidth = 2,label = label)\n",
        "    plt.plot([0,1],[0,1],'k--')\n",
        "    plt.xlabel('거짓 양성 비율(FPR)')\n",
        "    plt.ylabel('진짜 양성 비율(TPR,재현율)')"
      ],
      "execution_count": 55,
      "outputs": []
    },
    {
      "cell_type": "code",
      "metadata": {
        "id": "sXiz3DCzfnvm",
        "colab_type": "code",
        "colab": {
          "base_uri": "https://localhost:8080/",
          "height": 282
        },
        "outputId": "4a7b2153-1e65-4380-ddd3-3c86d9db6a9a"
      },
      "source": [
        "plot_roc_curve(fpr,tpr)\n",
        "plt.show()"
      ],
      "execution_count": 56,
      "outputs": [
        {
          "output_type": "display_data",
          "data": {
            "image/png": "[encoded data removed]",
            "text/plain": [
              "<Figure size 432x288 with 1 Axes>"
            ]
          },
          "metadata": {
            "tags": [],
            "needs_background": "light"
          }
        }
      ]
    },
    {
      "cell_type": "markdown",
      "metadata": {
        "id": "I6Xtgv3Xfnvr",
        "colab_type": "text"
      },
      "source": [
        "여기에서도 트레이드오프가 있습니다. 재현율(TPR)이 높을수록 분류기가 만드는 거짓양성(FPR)이 늘어납니다. 점선은 완전한 랜덤 분류기의 ROC곡선을 뜻합니다."
      ]
    },
    {
      "cell_type": "markdown",
      "metadata": {
        "id": "OawhL1__fnvr",
        "colab_type": "text"
      },
      "source": [
        "곡선 아래 면적을 측정하면 분류기들을 비교할 수 있습니다. 완벽한 분류기는 ROC의 AUC가 1이고, 완전한 랜덤분류기는 0.5입니다. ROC의 AUC계산하는 함수는 아래입니다."
      ]
    },
    {
      "cell_type": "code",
      "metadata": {
        "id": "Fiw3FcXXfnvs",
        "colab_type": "code",
        "colab": {}
      },
      "source": [
        "from sklearn.metrics import roc_auc_score"
      ],
      "execution_count": 57,
      "outputs": []
    },
    {
      "cell_type": "code",
      "metadata": {
        "id": "017Jhssjfnvu",
        "colab_type": "code",
        "colab": {
          "base_uri": "https://localhost:8080/",
          "height": 34
        },
        "outputId": "e3a9f28d-83b1-4bc6-d626-49da0f0b11e7"
      },
      "source": [
        "roc_auc_score(y_train_5,y_scores)"
      ],
      "execution_count": 58,
      "outputs": [
        {
          "output_type": "execute_result",
          "data": {
            "text/plain": [
              "0.9604938554008616"
            ]
          },
          "metadata": {
            "tags": []
          },
          "execution_count": 58
        }
      ]
    },
    {
      "cell_type": "markdown",
      "metadata": {
        "id": "5K6PW9Tufnvy",
        "colab_type": "text"
      },
      "source": [
        "RandomForestClassifier과 비교"
      ]
    },
    {
      "cell_type": "markdown",
      "metadata": {
        "id": "Lg1trxXCfnvz",
        "colab_type": "text"
      },
      "source": [
        "랜덤포레스트는 decision_function()메서드 대신 predict_proba()메서드 가지고 있음.<br>\n",
        "사이킷런 분류기는 일반적으로 이 두 메서드 중 하나 또는 둘 모두를 가지고 있습니다.<br>\n",
        "predict_proba() 메서드는 샘플이 행, 클래스가 열이고 샘플이 주어진 클래스에 속할 확률을 담은 배열을 반환합니다."
      ]
    },
    {
      "cell_type": "code",
      "metadata": {
        "id": "bUG2kbt8fnvz",
        "colab_type": "code",
        "colab": {}
      },
      "source": [
        "from sklearn.ensemble import RandomForestClassifier"
      ],
      "execution_count": 59,
      "outputs": []
    },
    {
      "cell_type": "code",
      "metadata": {
        "id": "RmRt2VB7fnv2",
        "colab_type": "code",
        "colab": {}
      },
      "source": [
        "forest_clf = RandomForestClassifier(random_state=42)\n",
        "y_probas_forest = cross_val_predict(forest_clf,X_train,y_train_5,cv = 3,method = 'predict_proba')"
      ],
      "execution_count": 60,
      "outputs": []
    },
    {
      "cell_type": "code",
      "metadata": {
        "id": "Mvf_azOHfnv4",
        "colab_type": "code",
        "colab": {
          "base_uri": "https://localhost:8080/",
          "height": 140
        },
        "outputId": "4c50115a-8a8b-4d1c-ed32-f4b5c5756107"
      },
      "source": [
        "y_probas_forest # (음성클래스, 양성클래스)"
      ],
      "execution_count": 61,
      "outputs": [
        {
          "output_type": "execute_result",
          "data": {
            "text/plain": [
              "array([[0.11, 0.89],\n",
              "       [0.99, 0.01],\n",
              "       [0.96, 0.04],\n",
              "       ...,\n",
              "       [0.02, 0.98],\n",
              "       [0.92, 0.08],\n",
              "       [0.94, 0.06]])"
            ]
          },
          "metadata": {
            "tags": []
          },
          "execution_count": 61
        }
      ]
    },
    {
      "cell_type": "markdown",
      "metadata": {
        "id": "rrN2h-21fnv6",
        "colab_type": "text"
      },
      "source": [
        "양성 클래스 확률을 점수로 사용해보겠다!"
      ]
    },
    {
      "cell_type": "code",
      "metadata": {
        "id": "ifVYYAQ6fnv7",
        "colab_type": "code",
        "colab": {}
      },
      "source": [
        "y_score_forest = y_probas_forest[:,1]\n",
        "fpr_forest, tpr_forest, thresholds = roc_curve(y_train_5,y_score_forest)"
      ],
      "execution_count": 62,
      "outputs": []
    },
    {
      "cell_type": "markdown",
      "metadata": {
        "id": "Vw_gpYbSfnv_",
        "colab_type": "text"
      },
      "source": [
        "ROC곡선 그릴 때 비교를 위해 첫 번째 ROC곡선도 함께 그리겠습니다."
      ]
    },
    {
      "cell_type": "code",
      "metadata": {
        "id": "2cLqPi5kfnwA",
        "colab_type": "code",
        "colab": {
          "base_uri": "https://localhost:8080/",
          "height": 265
        },
        "outputId": "a8bf6323-e15e-4316-8886-84fc80ca632e"
      },
      "source": [
        "plt.plot(fpr,tpr,'b:',label = \"SGD\")\n",
        "plt.plot(fpr_forest,tpr_forest,label = '랜덤포레스트')\n",
        "plt.legend(loc = 'lower right')\n",
        "plt.show()"
      ],
      "execution_count": 63,
      "outputs": [
        {
          "output_type": "display_data",
          "data": {
            "image/png": "[encoded data removed]",
            "text/plain": [
              "<Figure size 432x288 with 1 Axes>"
            ]
          },
          "metadata": {
            "tags": [],
            "needs_background": "light"
          }
        }
      ]
    },
    {
      "cell_type": "code",
      "metadata": {
        "id": "K0SLK33RfnwC",
        "colab_type": "code",
        "colab": {
          "base_uri": "https://localhost:8080/",
          "height": 34
        },
        "outputId": "6f768206-9ac9-4675-9166-ff9a429c847a"
      },
      "source": [
        "roc_auc_score(y_train_5,y_score_forest)"
      ],
      "execution_count": 64,
      "outputs": [
        {
          "output_type": "execute_result",
          "data": {
            "text/plain": [
              "0.9983436731328145"
            ]
          },
          "metadata": {
            "tags": []
          },
          "execution_count": 64
        }
      ]
    },
    {
      "cell_type": "code",
      "metadata": {
        "id": "bBJZuNR-fnwI",
        "colab_type": "code",
        "colab": {}
      },
      "source": [
        "y_train_predict = cross_val_predict(forest_clf,X_train,y_train_5,cv = 3)"
      ],
      "execution_count": 65,
      "outputs": []
    },
    {
      "cell_type": "code",
      "metadata": {
        "id": "R7W7RAp-fnwM",
        "colab_type": "code",
        "colab": {
          "base_uri": "https://localhost:8080/",
          "height": 34
        },
        "outputId": "89d25d02-d027-4f2c-ec11-65e5bf30fff7"
      },
      "source": [
        "precision_score(y_train_5,y_train_predict)"
      ],
      "execution_count": 66,
      "outputs": [
        {
          "output_type": "execute_result",
          "data": {
            "text/plain": [
              "0.9905083315756169"
            ]
          },
          "metadata": {
            "tags": []
          },
          "execution_count": 66
        }
      ]
    },
    {
      "cell_type": "code",
      "metadata": {
        "id": "_IR1crnNfnwU",
        "colab_type": "code",
        "colab": {
          "base_uri": "https://localhost:8080/",
          "height": 34
        },
        "outputId": "502e1c4b-02c7-49cb-de80-4286220fc4c7"
      },
      "source": [
        "recall_score(y_train_5,y_train_predict)"
      ],
      "execution_count": 67,
      "outputs": [
        {
          "output_type": "execute_result",
          "data": {
            "text/plain": [
              "0.8662608374838591"
            ]
          },
          "metadata": {
            "tags": []
          },
          "execution_count": 67
        }
      ]
    },
    {
      "cell_type": "markdown",
      "metadata": {
        "id": "W-LHMmSGfnwX",
        "colab_type": "text"
      },
      "source": [
        "## 다중 분류"
      ]
    },
    {
      "cell_type": "markdown",
      "metadata": {
        "id": "KGb7_cAGfnwY",
        "colab_type": "text"
      },
      "source": [
        "2 이상의 클래스 분류하는 것!!"
      ]
    },
    {
      "cell_type": "code",
      "metadata": {
        "id": "ax386LTNfnwZ",
        "colab_type": "code",
        "colab": {}
      },
      "source": [
        "from sklearn.svm import SVC"
      ],
      "execution_count": 68,
      "outputs": []
    },
    {
      "cell_type": "code",
      "metadata": {
        "id": "nzpfnDkGfnwd",
        "colab_type": "code",
        "colab": {
          "base_uri": "https://localhost:8080/",
          "height": 87
        },
        "outputId": "b89f8d0e-7cb4-4fb3-fb7d-8ca4ac351c1b"
      },
      "source": [
        "svm_clf = SVC()\n",
        "svm_clf.fit(X_train,y_train) # 다중 분류이므로~ 전체!"
      ],
      "execution_count": 69,
      "outputs": [
        {
          "output_type": "execute_result",
          "data": {
            "text/plain": [
              "SVC(C=1.0, break_ties=False, cache_size=200, class_weight=None, coef0=0.0,\n",
              "    decision_function_shape='ovr', degree=3, gamma='scale', kernel='rbf',\n",
              "    max_iter=-1, probability=False, random_state=None, shrinking=True,\n",
              "    tol=0.001, verbose=False)"
            ]
          },
          "metadata": {
            "tags": []
          },
          "execution_count": 69
        }
      ]
    },
    {
      "cell_type": "code",
      "metadata": {
        "id": "kt27xdbTfnwg",
        "colab_type": "code",
        "colab": {
          "base_uri": "https://localhost:8080/",
          "height": 34
        },
        "outputId": "747f1f75-03aa-4d51-e781-71d6f934eb89"
      },
      "source": [
        "svm_clf.predict([some_digit])"
      ],
      "execution_count": 70,
      "outputs": [
        {
          "output_type": "execute_result",
          "data": {
            "text/plain": [
              "array([5], dtype=uint8)"
            ]
          },
          "metadata": {
            "tags": []
          },
          "execution_count": 70
        }
      ]
    },
    {
      "cell_type": "markdown",
      "metadata": {
        "id": "uQgwvbjimHJF",
        "colab_type": "text"
      },
      "source": [
        "내부에서는 사이킷런이 OvO전략을 사용해 45개의 이진 분류기를 훈련시키고 각각의 결정 점수를 얻어 가장 높은 클래스를 선택합니다"
      ]
    },
    {
      "cell_type": "code",
      "metadata": {
        "id": "VC6VOcNHmQiP",
        "colab_type": "code",
        "colab": {
          "base_uri": "https://localhost:8080/",
          "height": 52
        },
        "outputId": "e7bd8a35-2ac9-4d11-b8f4-0a3b2ef51a35"
      },
      "source": [
        "some_digit_scores = svm_clf.decision_function([some_digit])\n",
        "some_digit_scores"
      ],
      "execution_count": 71,
      "outputs": [
        {
          "output_type": "execute_result",
          "data": {
            "text/plain": [
              "array([[ 1.72501977,  2.72809088,  7.2510018 ,  8.3076379 , -0.31087254,\n",
              "         9.3132482 ,  1.70975103,  2.76765202,  6.23049537,  4.84771048]])"
            ]
          },
          "metadata": {
            "tags": []
          },
          "execution_count": 71
        }
      ]
    },
    {
      "cell_type": "code",
      "metadata": {
        "id": "d9Ejx-FNmXCf",
        "colab_type": "code",
        "colab": {
          "base_uri": "https://localhost:8080/",
          "height": 34
        },
        "outputId": "1a0393ba-0fd6-4edd-872f-edcc0b9f106e"
      },
      "source": [
        "np.argmax(some_digit_scores)"
      ],
      "execution_count": 72,
      "outputs": [
        {
          "output_type": "execute_result",
          "data": {
            "text/plain": [
              "5"
            ]
          },
          "metadata": {
            "tags": []
          },
          "execution_count": 72
        }
      ]
    },
    {
      "cell_type": "code",
      "metadata": {
        "id": "VOwXqqINmgMx",
        "colab_type": "code",
        "colab": {
          "base_uri": "https://localhost:8080/",
          "height": 34
        },
        "outputId": "73317994-2e98-43fb-9dce-5b052be62d2f"
      },
      "source": [
        "svm_clf.classes_"
      ],
      "execution_count": 73,
      "outputs": [
        {
          "output_type": "execute_result",
          "data": {
            "text/plain": [
              "array([0, 1, 2, 3, 4, 5, 6, 7, 8, 9], dtype=uint8)"
            ]
          },
          "metadata": {
            "tags": []
          },
          "execution_count": 73
        }
      ]
    },
    {
      "cell_type": "markdown",
      "metadata": {
        "id": "h4LjCgk6nA28",
        "colab_type": "text"
      },
      "source": [
        "사이킷런에서 OvO나 OvR을 사용하도록 강제할 수 있습니다."
      ]
    },
    {
      "cell_type": "code",
      "metadata": {
        "id": "Kbn5YsKwmrBx",
        "colab_type": "code",
        "colab": {}
      },
      "source": [
        "from sklearn.multiclass import OneVsRestClassifier"
      ],
      "execution_count": 76,
      "outputs": []
    },
    {
      "cell_type": "code",
      "metadata": {
        "id": "_Wsvino2nLeU",
        "colab_type": "code",
        "colab": {
          "base_uri": "https://localhost:8080/",
          "height": 34
        },
        "outputId": "c2e997bb-e427-4081-8f8e-330bf0b1407f"
      },
      "source": [
        "ovr_clf = OneVsRestClassifier(SVC())\n",
        "ovr_clf.fit(X_train,y_train)\n",
        "ovr_clf.predict([some_digit])"
      ],
      "execution_count": 77,
      "outputs": [
        {
          "output_type": "execute_result",
          "data": {
            "text/plain": [
              "array([5], dtype=uint8)"
            ]
          },
          "metadata": {
            "tags": []
          },
          "execution_count": 77
        }
      ]
    },
    {
      "cell_type": "code",
      "metadata": {
        "id": "cIIqfwwNnSIA",
        "colab_type": "code",
        "colab": {
          "base_uri": "https://localhost:8080/",
          "height": 34
        },
        "outputId": "db59a3c9-6f57-4a04-906d-365772c7ebe3"
      },
      "source": [
        "len(ovr_clf.estimators_)"
      ],
      "execution_count": 78,
      "outputs": [
        {
          "output_type": "execute_result",
          "data": {
            "text/plain": [
              "10"
            ]
          },
          "metadata": {
            "tags": []
          },
          "execution_count": 78
        }
      ]
    },
    {
      "cell_type": "markdown",
      "metadata": {
        "id": "s2-7SjUfypOO",
        "colab_type": "text"
      },
      "source": [
        "SGDClassifier를 훈련시키는 것도 간단합니다. 이 경우 SGD분류기는 직접 샘플을 다중 클래스로 분류할 수 있기 때문에 별도로 사이킷런의 OvR이나 OvO를 적용할 필요가 없습니다."
      ]
    },
    {
      "cell_type": "code",
      "metadata": {
        "id": "wMYNNn6dpTtq",
        "colab_type": "code",
        "colab": {
          "base_uri": "https://localhost:8080/",
          "height": 34
        },
        "outputId": "8f719fbf-8ed8-4e09-8b08-bd316f9f6eb6"
      },
      "source": [
        "sgd_clf.fit(X_train,y_train)\n",
        "sgd_clf.predict([some_digit])"
      ],
      "execution_count": 79,
      "outputs": [
        {
          "output_type": "execute_result",
          "data": {
            "text/plain": [
              "array([3], dtype=uint8)"
            ]
          },
          "metadata": {
            "tags": []
          },
          "execution_count": 79
        }
      ]
    },
    {
      "cell_type": "code",
      "metadata": {
        "id": "WAJAwr7Wy6Kp",
        "colab_type": "code",
        "colab": {
          "base_uri": "https://localhost:8080/",
          "height": 87
        },
        "outputId": "191b5f9b-274b-49b1-ec9e-854d3584980d"
      },
      "source": [
        "# SGD분류기가 클래스마다 부여한 점수 비교\n",
        "sgd_clf.decision_function([some_digit])"
      ],
      "execution_count": 80,
      "outputs": [
        {
          "output_type": "execute_result",
          "data": {
            "text/plain": [
              "array([[-31893.03095419, -34419.69069632,  -9530.63950739,\n",
              "          1823.73154031, -22320.14822878,  -1385.80478895,\n",
              "        -26188.91070951, -16147.51323997,  -4604.35491274,\n",
              "        -12050.767298  ]])"
            ]
          },
          "metadata": {
            "tags": []
          },
          "execution_count": 80
        }
      ]
    },
    {
      "cell_type": "markdown",
      "metadata": {
        "id": "j68lwEOI0Fy3",
        "colab_type": "text"
      },
      "source": [
        "책과 상이하게 결과 나옴.. 그래도 분류기 평가해보자"
      ]
    },
    {
      "cell_type": "code",
      "metadata": {
        "id": "WH-XZkrMz95N",
        "colab_type": "code",
        "colab": {
          "base_uri": "https://localhost:8080/",
          "height": 34
        },
        "outputId": "685fac91-9b5c-43cf-d484-5b87bed14c03"
      },
      "source": [
        "cross_val_score(sgd_clf,X_train,y_train,cv = 3,scoring = 'accuracy')"
      ],
      "execution_count": 81,
      "outputs": [
        {
          "output_type": "execute_result",
          "data": {
            "text/plain": [
              "array([0.87365, 0.85835, 0.8689 ])"
            ]
          },
          "metadata": {
            "tags": []
          },
          "execution_count": 81
        }
      ]
    },
    {
      "cell_type": "markdown",
      "metadata": {
        "id": "XdD_wFNo1XIu",
        "colab_type": "text"
      },
      "source": [
        "모든 테스트 폴드에서 84%이상을 얻었습니다. 성능을 더 높일 여지가 있습니다. 입력의 스케일을 조정해보자"
      ]
    },
    {
      "cell_type": "code",
      "metadata": {
        "id": "iwlQCvR30Ozf",
        "colab_type": "code",
        "colab": {}
      },
      "source": [
        "from sklearn.preprocessing import StandardScaler"
      ],
      "execution_count": 82,
      "outputs": []
    },
    {
      "cell_type": "code",
      "metadata": {
        "id": "2I2lRbz_1h-4",
        "colab_type": "code",
        "colab": {
          "base_uri": "https://localhost:8080/",
          "height": 34
        },
        "outputId": "15d1f994-b43e-42d7-d791-ad11e5946423"
      },
      "source": [
        "scaler = StandardScaler()\n",
        "X_train_scaled = scaler.fit_transform(X_train.astype(np.float64))\n",
        "cross_val_score(sgd_clf,X_train_scaled,y_train,cv = 3,scoring = 'accuracy')"
      ],
      "execution_count": 83,
      "outputs": [
        {
          "output_type": "execute_result",
          "data": {
            "text/plain": [
              "array([0.8983, 0.891 , 0.9018])"
            ]
          },
          "metadata": {
            "tags": []
          },
          "execution_count": 83
        }
      ]
    },
    {
      "cell_type": "markdown",
      "metadata": {
        "id": "MkDFlCtQ5ohe",
        "colab_type": "text"
      },
      "source": [
        "**3.5 에러분석**"
      ]
    },
    {
      "cell_type": "code",
      "metadata": {
        "id": "v40w6IDV175O",
        "colab_type": "code",
        "colab": {
          "base_uri": "https://localhost:8080/",
          "height": 193
        },
        "outputId": "a6f99e6e-2d06-478d-9eeb-9e3ed661a55c"
      },
      "source": [
        "y_train_pred = cross_val_predict(sgd_clf,X_train_scaled,y_train,cv = 3)\n",
        "conf_mx = confusion_matrix(y_train,y_train_pred)\n",
        "conf_mx"
      ],
      "execution_count": 84,
      "outputs": [
        {
          "output_type": "execute_result",
          "data": {
            "text/plain": [
              "array([[5577,    0,   22,    5,    8,   43,   36,    6,  225,    1],\n",
              "       [   0, 6400,   37,   24,    4,   44,    4,    7,  212,   10],\n",
              "       [  27,   27, 5220,   92,   73,   27,   67,   36,  378,   11],\n",
              "       [  22,   17,  117, 5227,    2,  203,   27,   40,  403,   73],\n",
              "       [  12,   14,   41,    9, 5182,   12,   34,   27,  347,  164],\n",
              "       [  27,   15,   30,  168,   53, 4444,   75,   14,  535,   60],\n",
              "       [  30,   15,   42,    3,   44,   97, 5552,    3,  131,    1],\n",
              "       [  21,   10,   51,   30,   49,   12,    3, 5684,  195,  210],\n",
              "       [  17,   63,   48,   86,    3,  126,   25,   10, 5429,   44],\n",
              "       [  25,   18,   30,   64,  118,   36,    1,  179,  371, 5107]])"
            ]
          },
          "metadata": {
            "tags": []
          },
          "execution_count": 84
        }
      ]
    },
    {
      "cell_type": "code",
      "metadata": {
        "id": "rDkUxTRB6Gzh",
        "colab_type": "code",
        "colab": {
          "base_uri": "https://localhost:8080/",
          "height": 275
        },
        "outputId": "90a2ea3b-f3a2-472e-94a2-2d56aabd2a07"
      },
      "source": [
        "plt.matshow(conf_mx,cmap = plt.cm.gray)\n",
        "plt.show()"
      ],
      "execution_count": 85,
      "outputs": [
        {
          "output_type": "display_data",
          "data": {
            "image/png": "[encoded data removed]",
            "text/plain": [
              "<Figure size 288x288 with 1 Axes>"
            ]
          },
          "metadata": {
            "tags": [],
            "needs_background": "light"
          }
        }
      ]
    },
    {
      "cell_type": "markdown",
      "metadata": {
        "id": "bn1_wBsk9RiS",
        "colab_type": "text"
      },
      "source": [
        "배열에서 가장 큰 값은 흰색,, 가장 작은 값은 검은색.."
      ]
    },
    {
      "cell_type": "markdown",
      "metadata": {
        "id": "P6mYdHbK6wTG",
        "colab_type": "text"
      },
      "source": [
        "그래프의 에러 부부네 초점을 맞춰보겠습니다. 먼저 오차 행렬의 각 값을 대응되는 클래스의 이미지 개수로 나누어 (에러의 절대 개수가 아님!!) 에러 비율을 비교합니다.\n",
        "(개수로 배교하면 이미지가 많은 클래스가 상대적으로 나쁘게 보입니다.)"
      ]
    },
    {
      "cell_type": "code",
      "metadata": {
        "id": "Se7qlsOr6s25",
        "colab_type": "code",
        "colab": {}
      },
      "source": [
        "row_sums = conf_mx.sum(axis = 1,keepdims = True)\n",
        "norm_conf_mx = conf_mx / row_sums"
      ],
      "execution_count": 87,
      "outputs": []
    },
    {
      "cell_type": "code",
      "metadata": {
        "id": "ZzB8oNqf7Uxw",
        "colab_type": "code",
        "colab": {
          "base_uri": "https://localhost:8080/",
          "height": 275
        },
        "outputId": "23aab4f7-aafe-4640-c7e0-61138b323959"
      },
      "source": [
        "np.fill_diagonal(norm_conf_mx,0)\n",
        "plt.matshow(norm_conf_mx,cmap = plt.cm.gray)\n",
        "plt.show()"
      ],
      "execution_count": 89,
      "outputs": [
        {
          "output_type": "display_data",
          "data": {
            "image/png": "[encoded data removed]",
            "text/plain": [
              "<Figure size 288x288 with 1 Axes>"
            ]
          },
          "metadata": {
            "tags": [],
            "needs_background": "light"
          }
        }
      ]
    },
    {
      "cell_type": "markdown",
      "metadata": {
        "id": "JZMZmIq89KTi",
        "colab_type": "text"
      },
      "source": [
        "행 : 실제 클래스 / 열 : 예측한 클래스\n",
        "클래스 8의 열은 상당히 밝으므로 많은 이미지가 8로 잘못 분류되었음을 암시.. 하지만 클래스 8의 행은 그리 나쁘지 않다! 이는 실제 8이 적절히 8로 분류되었다는 것을 말해준다.\n",
        "\n",
        "또한, 여기서 오차 행렬은 반드시 대칭인 것은 아니라는 것을 보여준다. 3과 5가 서로 많이 혼동되고 있는 것을 볼 수 있다."
      ]
    },
    {
      "cell_type": "code",
      "metadata": {
        "id": "E_SeS-lP7g6r",
        "colab_type": "code",
        "colab": {}
      },
      "source": [
        "cl_a, cl_b = 3,5\n",
        "X_aa = X_train[(y_train == cl_a) & (y_train_pred == cl_a)]\n",
        "X_ab = X_train[(y_train == cl_a) & (y_train_pred == cl_b)]\n",
        "X_ba = X_train[(y_train == cl_b) & (y_train_pred == cl_a)]\n",
        "X_bb = X_train[(y_train == cl_b) & (y_train_pred == cl_b)]"
      ],
      "execution_count": 96,
      "outputs": []
    },
    {
      "cell_type": "code",
      "metadata": {
        "id": "l-cq1VWB-ZAv",
        "colab_type": "code",
        "colab": {}
      },
      "source": [
        "# 숫자 그림을 위한 추가 함수\n",
        "def plot_digits(instances, images_per_row=10, **options):\n",
        "    size = 28\n",
        "    images_per_row = min(len(instances), images_per_row)\n",
        "    images = [instance.reshape(size,size) for instance in instances]\n",
        "    n_rows = (len(instances) - 1) // images_per_row + 1\n",
        "    row_images = []\n",
        "    n_empty = n_rows * images_per_row - len(instances)\n",
        "    images.append(np.zeros((size, size * n_empty)))\n",
        "    for row in range(n_rows):\n",
        "        rimages = images[row * images_per_row : (row + 1) * images_per_row]\n",
        "        row_images.append(np.concatenate(rimages, axis=1))\n",
        "    image = np.concatenate(row_images, axis=0)\n",
        "    plt.imshow(image, cmap = mpl.cm.binary, **options)\n",
        "    plt.axis(\"off\")"
      ],
      "execution_count": 94,
      "outputs": []
    },
    {
      "cell_type": "code",
      "metadata": {
        "id": "cIHUKIXt-JqO",
        "colab_type": "code",
        "colab": {
          "base_uri": "https://localhost:8080/",
          "height": 466
        },
        "outputId": "ec8f887f-8580-48bc-84d7-c0a8c9251f2f"
      },
      "source": [
        "plt.figure(figsize=(8,8))\n",
        "plt.subplot(221); plot_digits(X_aa[:25], images_per_row=5)\n",
        "plt.subplot(222); plot_digits(X_ab[:25], images_per_row=5)\n",
        "plt.subplot(223); plot_digits(X_ba[:25], images_per_row=5)\n",
        "plt.subplot(224); plot_digits(X_bb[:25], images_per_row=5)\n",
        "plt.show()"
      ],
      "execution_count": 97,
      "outputs": [
        {
          "output_type": "display_data",
          "data": {
            "image/png": "[encoded data removed]",
            "text/plain": [
              "<Figure size 576x576 with 4 Axes>"
            ]
          },
          "metadata": {
            "tags": [],
            "needs_background": "light"
          }
        }
      ]
    },
    {
      "cell_type": "code",
      "metadata": {
        "id": "4i5aKalC-OGm",
        "colab_type": "code",
        "colab": {}
      },
      "source": [
        ""
      ],
      "execution_count": null,
      "outputs": []
    }
  ]
}